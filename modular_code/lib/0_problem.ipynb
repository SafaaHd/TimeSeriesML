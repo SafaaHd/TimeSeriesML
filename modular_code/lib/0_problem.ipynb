{
 "cells": [
  {
   "cell_type": "code",
   "execution_count": 2,
   "metadata": {},
   "outputs": [
    {
     "name": "stdout",
     "output_type": "stream",
     "text": [
      "{'pandas': '1.3.5', 'numpy': '1.24.3', 'scipy': '1.8.1', 'sklearn': '1.1.1', 'openpyxl': '3.0.10', 'seaborn': '0.11.2', 'matplotlib': '3.5.2', 'sktime': '0.29.1'}\n"
     ]
    }
   ],
   "source": [
    "%load_ext autoreload\n",
    "%autoreload 2\n",
    "import pandas as pd\n",
    "import numpy as np\n",
    "import sklearn\n",
    "import scipy as scp\n",
    "import openpyxl\n",
    "import matplotlib\n",
    "import matplotlib.pyplot as plt\n",
    "import seaborn as sns\n",
    "import sktime as skt\n",
    "\n",
    "# supress this warning\n",
    "pd.options.mode.chained_assignment = None\n",
    "\n",
    "print({pkg.__name__:pkg.__version__ for pkg in [pd, np, scp, sklearn, openpyxl, sns, matplotlib, skt]})"
   ]
  },
  {
   "cell_type": "code",
   "execution_count": 3,
   "metadata": {},
   "outputs": [],
   "source": [
    "#importing sys\n",
    "import sys\n",
    "  \n",
    "# adding src to the system path\n",
    "sys.path.insert(0, '../src')\n"
   ]
  },
  {
   "cell_type": "markdown",
   "metadata": {},
   "source": [
    "### Initial look at the data"
   ]
  },
  {
   "cell_type": "markdown",
   "metadata": {},
   "source": [
    "#### i) load data"
   ]
  },
  {
   "cell_type": "code",
   "execution_count": 4,
   "metadata": {},
   "outputs": [
    {
     "data": {
      "text/plain": [
       "dict_keys(['data'])"
      ]
     },
     "execution_count": 4,
     "metadata": {},
     "output_type": "execute_result"
    }
   ],
   "source": [
    "from ml_pipeline.dataset import load_excel\n",
    "DATA_PATH = '../input/elevator_failure_prediction.xlsx'\n",
    "\n",
    "# this creates a dict of excel sheets\n",
    "xl_dict = load_excel(DATA_PATH)\n",
    "xl_dict.keys()"
   ]
  },
  {
   "cell_type": "code",
   "execution_count": 5,
   "metadata": {},
   "outputs": [
    {
     "data": {
      "text/html": [
       "<div>\n",
       "<style scoped>\n",
       "    .dataframe tbody tr th:only-of-type {\n",
       "        vertical-align: middle;\n",
       "    }\n",
       "\n",
       "    .dataframe tbody tr th {\n",
       "        vertical-align: top;\n",
       "    }\n",
       "\n",
       "    .dataframe thead th {\n",
       "        text-align: right;\n",
       "    }\n",
       "</style>\n",
       "<table border=\"1\" class=\"dataframe\">\n",
       "  <thead>\n",
       "    <tr style=\"text-align: right;\">\n",
       "      <th></th>\n",
       "      <th>Time</th>\n",
       "      <th>Temperature</th>\n",
       "      <th>Humidity</th>\n",
       "      <th>RPM</th>\n",
       "      <th>Vibrations</th>\n",
       "      <th>Pressure</th>\n",
       "      <th>Sensor1</th>\n",
       "      <th>Sensor2</th>\n",
       "      <th>Sensor3</th>\n",
       "      <th>Sensor4</th>\n",
       "      <th>Sensor5</th>\n",
       "      <th>Sensor6</th>\n",
       "      <th>Status</th>\n",
       "    </tr>\n",
       "  </thead>\n",
       "  <tbody>\n",
       "    <tr>\n",
       "      <th>0</th>\n",
       "      <td>2020-01-01 00:00:00</td>\n",
       "      <td>31.11716</td>\n",
       "      <td>74.1715</td>\n",
       "      <td>72.0</td>\n",
       "      <td>16.81</td>\n",
       "      <td>76.0</td>\n",
       "      <td>0.791225</td>\n",
       "      <td>203.793426</td>\n",
       "      <td>0.582975</td>\n",
       "      <td>799.101683</td>\n",
       "      <td>7.149643</td>\n",
       "      <td>15.842287</td>\n",
       "      <td>0.0</td>\n",
       "    </tr>\n",
       "    <tr>\n",
       "      <th>1</th>\n",
       "      <td>2020-01-01 00:01:00</td>\n",
       "      <td>31.11716</td>\n",
       "      <td>74.1715</td>\n",
       "      <td>72.0</td>\n",
       "      <td>16.81</td>\n",
       "      <td>76.0</td>\n",
       "      <td>0.791225</td>\n",
       "      <td>203.793426</td>\n",
       "      <td>0.582975</td>\n",
       "      <td>799.101683</td>\n",
       "      <td>7.149643</td>\n",
       "      <td>15.842287</td>\n",
       "      <td>0.0</td>\n",
       "    </tr>\n",
       "    <tr>\n",
       "      <th>2</th>\n",
       "      <td>2020-01-01 00:02:00</td>\n",
       "      <td>32.08894</td>\n",
       "      <td>74.0803</td>\n",
       "      <td>72.0</td>\n",
       "      <td>17.08</td>\n",
       "      <td>76.0</td>\n",
       "      <td>0.803988</td>\n",
       "      <td>204.411886</td>\n",
       "      <td>0.575500</td>\n",
       "      <td>834.897700</td>\n",
       "      <td>7.089729</td>\n",
       "      <td>15.739743</td>\n",
       "      <td>0.0</td>\n",
       "    </tr>\n",
       "    <tr>\n",
       "      <th>3</th>\n",
       "      <td>2020-01-01 00:03:00</td>\n",
       "      <td>31.67221</td>\n",
       "      <td>73.9272</td>\n",
       "      <td>72.0</td>\n",
       "      <td>15.79</td>\n",
       "      <td>76.0</td>\n",
       "      <td>0.743260</td>\n",
       "      <td>204.363994</td>\n",
       "      <td>0.575500</td>\n",
       "      <td>805.467950</td>\n",
       "      <td>7.135375</td>\n",
       "      <td>15.731202</td>\n",
       "      <td>0.0</td>\n",
       "    </tr>\n",
       "    <tr>\n",
       "      <th>4</th>\n",
       "      <td>2020-01-01 00:04:00</td>\n",
       "      <td>31.95202</td>\n",
       "      <td>73.7603</td>\n",
       "      <td>72.0</td>\n",
       "      <td>16.84</td>\n",
       "      <td>76.0</td>\n",
       "      <td>0.792391</td>\n",
       "      <td>203.947834</td>\n",
       "      <td>0.584042</td>\n",
       "      <td>822.142650</td>\n",
       "      <td>7.092582</td>\n",
       "      <td>15.773928</td>\n",
       "      <td>0.0</td>\n",
       "    </tr>\n",
       "    <tr>\n",
       "      <th>...</th>\n",
       "      <td>...</td>\n",
       "      <td>...</td>\n",
       "      <td>...</td>\n",
       "      <td>...</td>\n",
       "      <td>...</td>\n",
       "      <td>...</td>\n",
       "      <td>...</td>\n",
       "      <td>...</td>\n",
       "      <td>...</td>\n",
       "      <td>...</td>\n",
       "      <td>...</td>\n",
       "      <td>...</td>\n",
       "      <td>...</td>\n",
       "    </tr>\n",
       "    <tr>\n",
       "      <th>44635</th>\n",
       "      <td>2020-01-31 23:55:00</td>\n",
       "      <td>33.52116</td>\n",
       "      <td>0.0000</td>\n",
       "      <td>72.0</td>\n",
       "      <td>23.00</td>\n",
       "      <td>11.0</td>\n",
       "      <td>1.082305</td>\n",
       "      <td>17.777731</td>\n",
       "      <td>0.372634</td>\n",
       "      <td>73.096240</td>\n",
       "      <td>7.115405</td>\n",
       "      <td>16.115723</td>\n",
       "      <td>0.0</td>\n",
       "    </tr>\n",
       "    <tr>\n",
       "      <th>44636</th>\n",
       "      <td>2020-01-31 23:56:00</td>\n",
       "      <td>33.17696</td>\n",
       "      <td>0.0000</td>\n",
       "      <td>72.0</td>\n",
       "      <td>23.38</td>\n",
       "      <td>11.0</td>\n",
       "      <td>1.100088</td>\n",
       "      <td>17.769158</td>\n",
       "      <td>0.361957</td>\n",
       "      <td>71.922282</td>\n",
       "      <td>7.123963</td>\n",
       "      <td>16.098630</td>\n",
       "      <td>0.0</td>\n",
       "    </tr>\n",
       "    <tr>\n",
       "      <th>44637</th>\n",
       "      <td>2020-01-31 23:57:00</td>\n",
       "      <td>32.88938</td>\n",
       "      <td>0.0000</td>\n",
       "      <td>72.0</td>\n",
       "      <td>24.77</td>\n",
       "      <td>11.0</td>\n",
       "      <td>1.165494</td>\n",
       "      <td>17.822902</td>\n",
       "      <td>0.352347</td>\n",
       "      <td>67.741018</td>\n",
       "      <td>7.103994</td>\n",
       "      <td>16.115723</td>\n",
       "      <td>0.0</td>\n",
       "    </tr>\n",
       "    <tr>\n",
       "      <th>44638</th>\n",
       "      <td>2020-01-31 23:58:00</td>\n",
       "      <td>33.11005</td>\n",
       "      <td>0.0000</td>\n",
       "      <td>72.0</td>\n",
       "      <td>24.82</td>\n",
       "      <td>11.0</td>\n",
       "      <td>1.167873</td>\n",
       "      <td>17.769206</td>\n",
       "      <td>0.332061</td>\n",
       "      <td>63.904680</td>\n",
       "      <td>7.123963</td>\n",
       "      <td>16.021731</td>\n",
       "      <td>0.0</td>\n",
       "    </tr>\n",
       "    <tr>\n",
       "      <th>44639</th>\n",
       "      <td>2020-01-31 23:59:00</td>\n",
       "      <td>33.67804</td>\n",
       "      <td>0.0000</td>\n",
       "      <td>72.0</td>\n",
       "      <td>24.49</td>\n",
       "      <td>11.0</td>\n",
       "      <td>1.152556</td>\n",
       "      <td>17.769158</td>\n",
       "      <td>0.332061</td>\n",
       "      <td>62.509720</td>\n",
       "      <td>7.103994</td>\n",
       "      <td>16.201174</td>\n",
       "      <td>0.0</td>\n",
       "    </tr>\n",
       "  </tbody>\n",
       "</table>\n",
       "<p>44640 rows × 13 columns</p>\n",
       "</div>"
      ],
      "text/plain": [
       "                     Time  Temperature  Humidity   RPM  Vibrations  Pressure  \\\n",
       "0     2020-01-01 00:00:00     31.11716   74.1715  72.0       16.81      76.0   \n",
       "1     2020-01-01 00:01:00     31.11716   74.1715  72.0       16.81      76.0   \n",
       "2     2020-01-01 00:02:00     32.08894   74.0803  72.0       17.08      76.0   \n",
       "3     2020-01-01 00:03:00     31.67221   73.9272  72.0       15.79      76.0   \n",
       "4     2020-01-01 00:04:00     31.95202   73.7603  72.0       16.84      76.0   \n",
       "...                   ...          ...       ...   ...         ...       ...   \n",
       "44635 2020-01-31 23:55:00     33.52116    0.0000  72.0       23.00      11.0   \n",
       "44636 2020-01-31 23:56:00     33.17696    0.0000  72.0       23.38      11.0   \n",
       "44637 2020-01-31 23:57:00     32.88938    0.0000  72.0       24.77      11.0   \n",
       "44638 2020-01-31 23:58:00     33.11005    0.0000  72.0       24.82      11.0   \n",
       "44639 2020-01-31 23:59:00     33.67804    0.0000  72.0       24.49      11.0   \n",
       "\n",
       "        Sensor1     Sensor2   Sensor3     Sensor4   Sensor5    Sensor6  Status  \n",
       "0      0.791225  203.793426  0.582975  799.101683  7.149643  15.842287     0.0  \n",
       "1      0.791225  203.793426  0.582975  799.101683  7.149643  15.842287     0.0  \n",
       "2      0.803988  204.411886  0.575500  834.897700  7.089729  15.739743     0.0  \n",
       "3      0.743260  204.363994  0.575500  805.467950  7.135375  15.731202     0.0  \n",
       "4      0.792391  203.947834  0.584042  822.142650  7.092582  15.773928     0.0  \n",
       "...         ...         ...       ...         ...       ...        ...     ...  \n",
       "44635  1.082305   17.777731  0.372634   73.096240  7.115405  16.115723     0.0  \n",
       "44636  1.100088   17.769158  0.361957   71.922282  7.123963  16.098630     0.0  \n",
       "44637  1.165494   17.822902  0.352347   67.741018  7.103994  16.115723     0.0  \n",
       "44638  1.167873   17.769206  0.332061   63.904680  7.123963  16.021731     0.0  \n",
       "44639  1.152556   17.769158  0.332061   62.509720  7.103994  16.201174     0.0  \n",
       "\n",
       "[44640 rows x 13 columns]"
      ]
     },
     "execution_count": 5,
     "metadata": {},
     "output_type": "execute_result"
    }
   ],
   "source": [
    "# get the relevant sheet\n",
    "raw = xl_dict['data']\n",
    "raw"
   ]
  },
  {
   "cell_type": "markdown",
   "metadata": {},
   "source": [
    "#### ii) data overview"
   ]
  },
  {
   "cell_type": "code",
   "execution_count": 6,
   "metadata": {},
   "outputs": [
    {
     "name": "stdout",
     "output_type": "stream",
     "text": [
      "<class 'pandas.core.frame.DataFrame'>\n",
      "RangeIndex: 44640 entries, 0 to 44639\n",
      "Data columns (total 13 columns):\n",
      " #   Column       Non-Null Count  Dtype         \n",
      "---  ------       --------------  -----         \n",
      " 0   Time         44640 non-null  datetime64[ns]\n",
      " 1   Temperature  44631 non-null  float64       \n",
      " 2   Humidity     44640 non-null  float64       \n",
      " 3   RPM          44640 non-null  float64       \n",
      " 4   Vibrations   44640 non-null  float64       \n",
      " 5   Pressure     44640 non-null  float64       \n",
      " 6   Sensor1      44640 non-null  float64       \n",
      " 7   Sensor2      40586 non-null  float64       \n",
      " 8   Sensor3      44640 non-null  float64       \n",
      " 9   Sensor4      44640 non-null  float64       \n",
      " 10  Sensor5      44640 non-null  float64       \n",
      " 11  Sensor6      44640 non-null  float64       \n",
      " 12  Status       44640 non-null  float64       \n",
      "dtypes: datetime64[ns](1), float64(12)\n",
      "memory usage: 4.4 MB\n"
     ]
    }
   ],
   "source": [
    "# initial look at the columns\n",
    "raw.info()"
   ]
  },
  {
   "cell_type": "code",
   "execution_count": 7,
   "metadata": {},
   "outputs": [
    {
     "data": {
      "text/plain": [
       "Time           2020-01-01 16:40:00\n",
       "Temperature               38.60568\n",
       "Humidity                   73.9486\n",
       "RPM                           72.0\n",
       "Vibrations                   13.01\n",
       "Pressure                      76.0\n",
       "Sensor1                   0.612267\n",
       "Sensor2                 204.218814\n",
       "Sensor3                   0.959879\n",
       "Sensor4                  825.31645\n",
       "Sensor5                   7.121112\n",
       "Sensor6                  15.697017\n",
       "Status                         0.0\n",
       "Name: 1000, dtype: object"
      ]
     },
     "execution_count": 7,
     "metadata": {},
     "output_type": "execute_result"
    }
   ],
   "source": [
    "# look at an example row\n",
    "raw.iloc[1000]"
   ]
  },
  {
   "cell_type": "markdown",
   "metadata": {},
   "source": [
    "#### iii) examine Target"
   ]
  },
  {
   "cell_type": "code",
   "execution_count": 8,
   "metadata": {},
   "outputs": [
    {
     "data": {
      "text/plain": [
       "0.0    40584\n",
       "1.0        2\n",
       "2.0     4054\n",
       "Name: Status, dtype: int64"
      ]
     },
     "execution_count": 8,
     "metadata": {},
     "output_type": "execute_result"
    }
   ],
   "source": [
    "# examine target variable, tt is a very imbalanced dataset\n",
    "raw.Status.value_counts().sort_index()"
   ]
  },
  {
   "cell_type": "markdown",
   "metadata": {},
   "source": [
    "#### iv) Examine time"
   ]
  },
  {
   "cell_type": "code",
   "execution_count": 9,
   "metadata": {},
   "outputs": [
    {
     "data": {
      "text/plain": [
       "0       2020-01-01 00:00:00\n",
       "44639   2020-01-31 23:59:00\n",
       "Name: Time, dtype: datetime64[ns]"
      ]
     },
     "execution_count": 9,
     "metadata": {},
     "output_type": "execute_result"
    }
   ],
   "source": [
    "# check if there are any missing time points \n",
    "raw.Time.iloc[[0,-1]]"
   ]
  },
  {
   "cell_type": "code",
   "execution_count": 10,
   "metadata": {},
   "outputs": [
    {
     "data": {
      "text/plain": [
       "True"
      ]
     },
     "execution_count": 10,
     "metadata": {},
     "output_type": "execute_result"
    }
   ],
   "source": [
    "# method 1) check number of rows is as expected\n",
    "# total number of minutes = days * (hours per day) * (minutes per hour) \n",
    "31 * 24 * 60 == len(raw)"
   ]
  },
  {
   "cell_type": "code",
   "execution_count": 11,
   "metadata": {},
   "outputs": [
    {
     "data": {
      "text/plain": [
       "array([60000000000], dtype='timedelta64[ns]')"
      ]
     },
     "execution_count": 11,
     "metadata": {},
     "output_type": "execute_result"
    }
   ],
   "source": [
    "# method 2) check interval between each row is always the same\n",
    "# see intervals between indices\n",
    "raw.Time.diff()[1:].unique()"
   ]
  },
  {
   "cell_type": "code",
   "execution_count": 12,
   "metadata": {},
   "outputs": [
    {
     "data": {
      "text/plain": [
       "60.0"
      ]
     },
     "execution_count": 12,
     "metadata": {},
     "output_type": "execute_result"
    }
   ],
   "source": [
    "# this number is in billionths of a second, we divied by 1 billion to confirm it is 60 seconds\n",
    "60000000000 / 1e9"
   ]
  },
  {
   "cell_type": "code",
   "execution_count": 13,
   "metadata": {},
   "outputs": [],
   "source": [
    "# set time as index\n",
    "raw.set_index('Time', inplace=True)"
   ]
  },
  {
   "cell_type": "markdown",
   "metadata": {},
   "source": [
    "### Train/Test split\n"
   ]
  },
  {
   "cell_type": "code",
   "execution_count": 14,
   "metadata": {},
   "outputs": [],
   "source": [
    "from ml_pipeline.dataset import time_train_test_split\n",
    "from ml_pipeline.diagnosis import check_target_split, check_number_of_full_days"
   ]
  },
  {
   "cell_type": "markdown",
   "metadata": {},
   "source": [
    "#### i) Make train/test split"
   ]
  },
  {
   "cell_type": "code",
   "execution_count": 15,
   "metadata": {},
   "outputs": [],
   "source": [
    "# make split \n",
    "train, test = time_train_test_split(raw, proportion = 0.8)"
   ]
  },
  {
   "cell_type": "markdown",
   "metadata": {},
   "source": [
    "#### ii) Check target distribution "
   ]
  },
  {
   "cell_type": "markdown",
   "metadata": {},
   "source": []
  },
  {
   "cell_type": "code",
   "execution_count": 16,
   "metadata": {},
   "outputs": [
    {
     "name": "stdout",
     "output_type": "stream",
     "text": [
      "            train    test\n",
      "Status                   \n",
      "Normal      31656  8928.0\n",
      "Broke           2     NaN\n",
      "Recovering   4054     NaN\n"
     ]
    }
   ],
   "source": [
    "# check distribution of our target in the split, it is not good\n",
    "check_target_split(train, test, target='Status')"
   ]
  },
  {
   "cell_type": "code",
   "execution_count": 17,
   "metadata": {},
   "outputs": [
    {
     "name": "stdout",
     "output_type": "stream",
     "text": [
      "            train   test\n",
      "Status                  \n",
      "Normal      21375  19209\n",
      "Broke           1      1\n",
      "Recovering    944   3110\n"
     ]
    }
   ],
   "source": [
    "# make another split \n",
    "train, test = time_train_test_split(raw, proportion = 0.5)\n",
    "\n",
    "# check distribution of our target in the split, it looks good\n",
    "check_target_split(train, test, target='Status')"
   ]
  },
  {
   "cell_type": "markdown",
   "metadata": {},
   "source": [
    "#### iii) Check day distribution"
   ]
  },
  {
   "cell_type": "code",
   "execution_count": 18,
   "metadata": {},
   "outputs": [
    {
     "name": "stdout",
     "output_type": "stream",
     "text": [
      "Mon      2.0\n",
      "Tues     2.0\n",
      "Wed      3.0\n",
      "Thurs    2.5\n",
      "Fri      2.0\n",
      "Sat      2.0\n",
      "Sun      2.0\n",
      "Name: Time, dtype: float64\n"
     ]
    }
   ],
   "source": [
    "\n",
    "check_number_of_full_days(train.index)"
   ]
  },
  {
   "cell_type": "code",
   "execution_count": 19,
   "metadata": {},
   "outputs": [
    {
     "name": "stdout",
     "output_type": "stream",
     "text": [
      "            train   test\n",
      "Status                  \n",
      "Normal      19215  21369\n",
      "Broke           1      1\n",
      "Recovering    944   3110\n",
      "----------------------------------------\n",
      "Mon      2.0\n",
      "Tues     2.0\n",
      "Wed      2.0\n",
      "Thurs    2.0\n",
      "Fri      2.0\n",
      "Sat      2.0\n",
      "Sun      2.0\n",
      "Name: Time, dtype: float64\n"
     ]
    }
   ],
   "source": [
    "# make another split\n",
    "train, test = time_train_test_split(raw, proportion = 14/31)\n",
    "\n",
    "# check target split again\n",
    "check_target_split(train, test, target='Status')\n",
    "\n",
    "# check day split again\n",
    "print('-'*40)\n",
    "check_number_of_full_days(train.index)"
   ]
  },
  {
   "cell_type": "code",
   "execution_count": 20,
   "metadata": {},
   "outputs": [],
   "source": [
    "# save files\n",
    "train.to_csv('../input/train/data.csv')\n",
    "test.to_csv('../input/test/data.csv')"
   ]
  },
  {
   "cell_type": "markdown",
   "metadata": {},
   "source": [
    "### Constructing training set: window size and lag "
   ]
  },
  {
   "cell_type": "code",
   "execution_count": 21,
   "metadata": {},
   "outputs": [],
   "source": [
    "from sktime.forecasting.model_selection import SlidingWindowSplitter"
   ]
  },
  {
   "cell_type": "code",
   "execution_count": 22,
   "metadata": {},
   "outputs": [
    {
     "data": {
      "text/plain": [
       "(array([ 0,  1,  2,  3,  4,  5,  6,  7,  8,  9, 10, 11, 12, 13, 14, 15, 16,\n",
       "        17, 18, 19, 20, 21, 22, 23, 24, 25, 26, 27, 28, 29, 30, 31, 32, 33,\n",
       "        34, 35, 36, 37, 38, 39, 40, 41, 42, 43, 44, 45, 46, 47, 48, 49, 50,\n",
       "        51, 52, 53, 54, 55, 56, 57, 58, 59], dtype=int64),\n",
       " array([64], dtype=int64))"
      ]
     },
     "execution_count": 22,
     "metadata": {},
     "output_type": "execute_result"
    }
   ],
   "source": [
    "# this splitter also uses window of 1 hour of data, but now we predict 5 minutes after the end of the window\n",
    "splitter_60_future = SlidingWindowSplitter(window_length = 60, step_length = 1, fh = 5, start_with_window = True)\n",
    "\n",
    "split = splitter_60_future.split(raw.index)\n",
    "\n",
    "# we can see the ground truth index is 5 after end of our input window\n",
    "next(split)"
   ]
  },
  {
   "cell_type": "code",
   "execution_count": 23,
   "metadata": {},
   "outputs": [
    {
     "name": "stdout",
     "output_type": "stream",
     "text": [
      "(array([ 1,  2,  3,  4,  5,  6,  7,  8,  9, 10, 11, 12, 13, 14, 15, 16, 17,\n",
      "       18, 19, 20, 21, 22, 23, 24, 25, 26, 27, 28, 29, 30, 31, 32, 33, 34,\n",
      "       35, 36, 37, 38, 39, 40, 41, 42, 43, 44, 45, 46, 47, 48, 49, 50, 51,\n",
      "       52, 53, 54, 55, 56, 57, 58, 59, 60], dtype=int64), array([65], dtype=int64))\n",
      "(array([ 2,  3,  4,  5,  6,  7,  8,  9, 10, 11, 12, 13, 14, 15, 16, 17, 18,\n",
      "       19, 20, 21, 22, 23, 24, 25, 26, 27, 28, 29, 30, 31, 32, 33, 34, 35,\n",
      "       36, 37, 38, 39, 40, 41, 42, 43, 44, 45, 46, 47, 48, 49, 50, 51, 52,\n",
      "       53, 54, 55, 56, 57, 58, 59, 60, 61], dtype=int64), array([66], dtype=int64))\n"
     ]
    }
   ],
   "source": [
    "print(next(split))\n",
    "print(next(split))"
   ]
  },
  {
   "cell_type": "code",
   "execution_count": 24,
   "metadata": {},
   "outputs": [
    {
     "data": {
      "text/plain": [
       "(array([ 0,  1,  2,  3,  4,  5,  6,  7,  8,  9, 10, 11, 12, 13, 14, 15, 16,\n",
       "        17, 18, 19, 20, 21, 22, 23, 24, 25, 26, 27, 28, 29, 30, 31, 32, 33,\n",
       "        34, 35, 36, 37, 38, 39, 40, 41, 42, 43, 44, 45, 46, 47, 48, 49, 50,\n",
       "        51, 52, 53, 54, 55, 56, 57, 58, 59], dtype=int64),\n",
       " array([59], dtype=int64))"
      ]
     },
     "execution_count": 24,
     "metadata": {},
     "output_type": "execute_result"
    }
   ],
   "source": [
    "# this splitter means each prediction uses window of 1 hour of data, to predict final minute of that window\n",
    "splitter_60_present = SlidingWindowSplitter(window_length = 60, step_length = 1, fh = 0)\n",
    "\n",
    "# now the ground truth index is at end of input window\n",
    "next(splitter_60_present.split(raw.index))"
   ]
  },
  {
   "cell_type": "code",
   "execution_count": 25,
   "metadata": {},
   "outputs": [
    {
     "data": {
      "text/plain": [
       "(array([ 0,  1,  2,  3,  4,  5,  6,  7,  8,  9, 10, 11, 12, 13, 14, 15, 16,\n",
       "        17, 18, 19, 20, 21, 22, 23, 24, 25, 26, 27, 28, 29], dtype=int64),\n",
       " array([29], dtype=int64))"
      ]
     },
     "execution_count": 25,
     "metadata": {},
     "output_type": "execute_result"
    }
   ],
   "source": [
    "# we can also look at alternatively with a smaller window\n",
    "splitter_30_present = SlidingWindowSplitter(window_length = 30, step_length = 1, fh = 0)\n",
    "\n",
    "# because we have a smaller window we can now predict for index 29, which we couldn't before\n",
    "# this splitter results in 30 more training data points than the previous ones, because 60-30=30\n",
    "next(splitter_30_present.split(raw.index))"
   ]
  },
  {
   "cell_type": "code",
   "execution_count": 26,
   "metadata": {},
   "outputs": [
    {
     "ename": "SyntaxError",
     "evalue": "invalid syntax (3072955657.py, line 11)",
     "output_type": "error",
     "traceback": [
      "\u001b[1;36m  Cell \u001b[1;32mIn[26], line 11\u001b[1;36m\u001b[0m\n\u001b[1;33m    ax.scatter([6``         `4], [3], marker='o', color='r', label='Ground truth')\u001b[0m\n\u001b[1;37m                 ^\u001b[0m\n\u001b[1;31mSyntaxError\u001b[0m\u001b[1;31m:\u001b[0m invalid syntax\n"
     ]
    }
   ],
   "source": [
    "# rough figure to visualise the difference beteen these options\n",
    "fig, ax = plt.subplots(figsize=(15,5), )\n",
    "\n",
    "ax.plot(np.arange(30,60), np.repeat(1,30), marker='x',  color='b')\n",
    "ax.scatter([59], [1], marker='o', color='r',)\n",
    "\n",
    "ax.plot(np.arange(60), np.repeat(2,60), marker='x', color='b')\n",
    "ax.scatter([59], [2], marker='o', color='r')\n",
    "\n",
    "ax.plot(np.arange(60), np.repeat(3,60), marker='x', color='b', label='Feature set')\n",
    "ax.scatter([6``         `4], [3], marker='o', color='r', label='Ground truth')\n",
    "\n",
    "ax.legend()\n",
    "\n",
    "ax.set_yticks([1,2,3])\n",
    "ax.set_yticklabels(['Window=30, Lag=0', 'Window=60, Lag=0','Window=60, Lag=5',])\n",
    "ax.set_ylim(0,4)\n",
    "ax.set_xlabel('Time index')"
   ]
  },
  {
   "cell_type": "code",
   "execution_count": null,
   "metadata": {},
   "outputs": [],
   "source": [
    "# function to create our training set\n",
    "from ml_pipeline.dataset import create_windows\n",
    "X, y = create_windows(raw.iloc[:100])\n",
    "\n"
   ]
  },
  {
   "cell_type": "code",
   "execution_count": null,
   "metadata": {},
   "outputs": [
    {
     "data": {
      "text/plain": [
       "Time\n",
       "2020-01-01 00:34:00    0.0\n",
       "Name: Status, dtype: float64"
      ]
     },
     "execution_count": 29,
     "metadata": {},
     "output_type": "execute_result"
    }
   ],
   "source": [
    "# check it has worked for one example\n",
    "y[5]"
   ]
  },
  {
   "cell_type": "code",
   "execution_count": 27,
   "metadata": {},
   "outputs": [
    {
     "ename": "NameError",
     "evalue": "name 'X' is not defined",
     "output_type": "error",
     "traceback": [
      "\u001b[1;31m---------------------------------------------------------------------------\u001b[0m",
      "\u001b[1;31mNameError\u001b[0m                                 Traceback (most recent call last)",
      "Cell \u001b[1;32mIn[27], line 1\u001b[0m\n\u001b[1;32m----> 1\u001b[0m \u001b[43mX\u001b[49m[\u001b[38;5;241m5\u001b[39m]\n\u001b[0;32m      2\u001b[0m X\u001b[38;5;241m.\u001b[39mshape\n",
      "\u001b[1;31mNameError\u001b[0m: name 'X' is not defined"
     ]
    }
   ],
   "source": [
    "X[5]\n",
    "X.shape"
   ]
  },
  {
   "cell_type": "code",
   "execution_count": null,
   "metadata": {},
   "outputs": [],
   "source": [
    "1. x[5] numpy flatten"
   ]
  },
  {
   "cell_type": "code",
   "execution_count": null,
   "metadata": {},
   "outputs": [],
   "source": []
  },
  {
   "cell_type": "markdown",
   "metadata": {},
   "source": [
    "### Pandas methods for time series"
   ]
  },
  {
   "cell_type": "markdown",
   "metadata": {},
   "source": [
    "#### pd.DataFrame.diff"
   ]
  },
  {
   "cell_type": "code",
   "execution_count": null,
   "metadata": {},
   "outputs": [
    {
     "data": {
      "text/html": [
       "<div>\n",
       "<style scoped>\n",
       "    .dataframe tbody tr th:only-of-type {\n",
       "        vertical-align: middle;\n",
       "    }\n",
       "\n",
       "    .dataframe tbody tr th {\n",
       "        vertical-align: top;\n",
       "    }\n",
       "\n",
       "    .dataframe thead th {\n",
       "        text-align: right;\n",
       "    }\n",
       "</style>\n",
       "<table border=\"1\" class=\"dataframe\">\n",
       "  <thead>\n",
       "    <tr style=\"text-align: right;\">\n",
       "      <th></th>\n",
       "      <th>Temperature</th>\n",
       "      <th>Humidity</th>\n",
       "      <th>RPM</th>\n",
       "      <th>Vibrations</th>\n",
       "    </tr>\n",
       "    <tr>\n",
       "      <th>Time</th>\n",
       "      <th></th>\n",
       "      <th></th>\n",
       "      <th></th>\n",
       "      <th></th>\n",
       "    </tr>\n",
       "  </thead>\n",
       "  <tbody>\n",
       "    <tr>\n",
       "      <th>2020-01-01 00:00:00</th>\n",
       "      <td>31.11716</td>\n",
       "      <td>74.1715</td>\n",
       "      <td>72.0</td>\n",
       "      <td>16.81</td>\n",
       "    </tr>\n",
       "    <tr>\n",
       "      <th>2020-01-01 00:01:00</th>\n",
       "      <td>31.11716</td>\n",
       "      <td>74.1715</td>\n",
       "      <td>72.0</td>\n",
       "      <td>16.81</td>\n",
       "    </tr>\n",
       "    <tr>\n",
       "      <th>2020-01-01 00:02:00</th>\n",
       "      <td>32.08894</td>\n",
       "      <td>74.0803</td>\n",
       "      <td>72.0</td>\n",
       "      <td>17.08</td>\n",
       "    </tr>\n",
       "    <tr>\n",
       "      <th>2020-01-01 00:03:00</th>\n",
       "      <td>31.67221</td>\n",
       "      <td>73.9272</td>\n",
       "      <td>72.0</td>\n",
       "      <td>15.79</td>\n",
       "    </tr>\n",
       "  </tbody>\n",
       "</table>\n",
       "</div>"
      ],
      "text/plain": [
       "                     Temperature  Humidity   RPM  Vibrations\n",
       "Time                                                        \n",
       "2020-01-01 00:00:00     31.11716   74.1715  72.0       16.81\n",
       "2020-01-01 00:01:00     31.11716   74.1715  72.0       16.81\n",
       "2020-01-01 00:02:00     32.08894   74.0803  72.0       17.08\n",
       "2020-01-01 00:03:00     31.67221   73.9272  72.0       15.79"
      ]
     },
     "execution_count": 31,
     "metadata": {},
     "output_type": "execute_result"
    }
   ],
   "source": [
    "raw.iloc[:4,:4]"
   ]
  },
  {
   "cell_type": "code",
   "execution_count": null,
   "metadata": {},
   "outputs": [
    {
     "data": {
      "text/html": [
       "<div>\n",
       "<style scoped>\n",
       "    .dataframe tbody tr th:only-of-type {\n",
       "        vertical-align: middle;\n",
       "    }\n",
       "\n",
       "    .dataframe tbody tr th {\n",
       "        vertical-align: top;\n",
       "    }\n",
       "\n",
       "    .dataframe thead th {\n",
       "        text-align: right;\n",
       "    }\n",
       "</style>\n",
       "<table border=\"1\" class=\"dataframe\">\n",
       "  <thead>\n",
       "    <tr style=\"text-align: right;\">\n",
       "      <th></th>\n",
       "      <th>Temperature</th>\n",
       "      <th>Humidity</th>\n",
       "      <th>RPM</th>\n",
       "      <th>Vibrations</th>\n",
       "    </tr>\n",
       "    <tr>\n",
       "      <th>Time</th>\n",
       "      <th></th>\n",
       "      <th></th>\n",
       "      <th></th>\n",
       "      <th></th>\n",
       "    </tr>\n",
       "  </thead>\n",
       "  <tbody>\n",
       "    <tr>\n",
       "      <th>2020-01-01 00:00:00</th>\n",
       "      <td>NaN</td>\n",
       "      <td>NaN</td>\n",
       "      <td>NaN</td>\n",
       "      <td>NaN</td>\n",
       "    </tr>\n",
       "    <tr>\n",
       "      <th>2020-01-01 00:01:00</th>\n",
       "      <td>0.00000</td>\n",
       "      <td>0.0000</td>\n",
       "      <td>0.0</td>\n",
       "      <td>0.00</td>\n",
       "    </tr>\n",
       "    <tr>\n",
       "      <th>2020-01-01 00:02:00</th>\n",
       "      <td>0.97178</td>\n",
       "      <td>-0.0912</td>\n",
       "      <td>0.0</td>\n",
       "      <td>0.27</td>\n",
       "    </tr>\n",
       "    <tr>\n",
       "      <th>2020-01-01 00:03:00</th>\n",
       "      <td>-0.41673</td>\n",
       "      <td>-0.1531</td>\n",
       "      <td>0.0</td>\n",
       "      <td>-1.29</td>\n",
       "    </tr>\n",
       "  </tbody>\n",
       "</table>\n",
       "</div>"
      ],
      "text/plain": [
       "                     Temperature  Humidity  RPM  Vibrations\n",
       "Time                                                       \n",
       "2020-01-01 00:00:00          NaN       NaN  NaN         NaN\n",
       "2020-01-01 00:01:00      0.00000    0.0000  0.0        0.00\n",
       "2020-01-01 00:02:00      0.97178   -0.0912  0.0        0.27\n",
       "2020-01-01 00:03:00     -0.41673   -0.1531  0.0       -1.29"
      ]
     },
     "execution_count": 32,
     "metadata": {},
     "output_type": "execute_result"
    }
   ],
   "source": [
    "raw.diff(periods=1, axis=0).iloc[:4,:4]"
   ]
  },
  {
   "cell_type": "markdown",
   "metadata": {},
   "source": [
    "#### pd.DataFrame.interpolate"
   ]
  },
  {
   "cell_type": "code",
   "execution_count": null,
   "metadata": {},
   "outputs": [
    {
     "data": {
      "text/plain": [
       "Time\n",
       "2020-01-01 00:00:00    31.11716\n",
       "2020-01-01 00:01:00    31.11716\n",
       "2020-01-01 00:02:00    32.08894\n",
       "2020-01-01 00:03:00    31.67221\n",
       "2020-01-01 00:04:00    31.95202\n",
       "2020-01-01 00:05:00    32.23816\n",
       "2020-01-01 00:06:00    32.00982\n",
       "2020-01-01 00:07:00    31.88320\n",
       "2020-01-01 00:08:00    32.09234\n",
       "2020-01-01 00:09:00    32.25679\n",
       "Name: Temperature, dtype: float64"
      ]
     },
     "execution_count": 33,
     "metadata": {},
     "output_type": "execute_result"
    }
   ],
   "source": [
    "raw.Temperature.iloc[:10]"
   ]
  },
  {
   "cell_type": "code",
   "execution_count": null,
   "metadata": {},
   "outputs": [],
   "source": [
    "ts_raw = raw.Temperature.iloc[:10].copy()\n",
    "ts_nulls = ts_raw.copy()\n",
    "ts_nulls.iloc[3:7] = np.nan"
   ]
  },
  {
   "cell_type": "code",
   "execution_count": null,
   "metadata": {},
   "outputs": [
    {
     "data": {
      "text/plain": [
       "Time\n",
       "2020-01-01 00:00:00    31.11716\n",
       "2020-01-01 00:01:00    31.11716\n",
       "2020-01-01 00:02:00    32.08894\n",
       "2020-01-01 00:03:00         NaN\n",
       "2020-01-01 00:04:00         NaN\n",
       "2020-01-01 00:05:00         NaN\n",
       "2020-01-01 00:06:00         NaN\n",
       "2020-01-01 00:07:00    31.88320\n",
       "2020-01-01 00:08:00    32.09234\n",
       "2020-01-01 00:09:00    32.25679\n",
       "Name: Temperature, dtype: float64"
      ]
     },
     "execution_count": 35,
     "metadata": {},
     "output_type": "execute_result"
    }
   ],
   "source": [
    "ts_nulls"
   ]
  },
  {
   "cell_type": "code",
   "execution_count": null,
   "metadata": {},
   "outputs": [
    {
     "data": {
      "text/plain": [
       "<AxesSubplot:xlabel='Time'>"
      ]
     },
     "execution_count": 36,
     "metadata": {},
     "output_type": "execute_result"
    },
    {
     "data": {
      "image/png": "[encoded data removed]",
      "text/plain": [
       "<Figure size 640x480 with 1 Axes>"
      ]
     },
     "metadata": {},
     "output_type": "display_data"
    }
   ],
   "source": [
    "ts_raw.plot()"
   ]
  },
  {
   "cell_type": "code",
   "execution_count": null,
   "metadata": {},
   "outputs": [
    {
     "data": {
      "text/plain": [
       "<AxesSubplot:xlabel='Time'>"
      ]
     },
     "execution_count": 37,
     "metadata": {},
     "output_type": "execute_result"
    },
    {
     "data": {
      "image/png": "[encoded data removed]",
      "text/plain": [
       "<Figure size 640x480 with 1 Axes>"
      ]
     },
     "metadata": {},
     "output_type": "display_data"
    }
   ],
   "source": [
    "ts_nulls.interpolate(method='bfill', limit=2, limit_area='outside').plot()"
   ]
  },
  {
   "cell_type": "markdown",
   "metadata": {},
   "source": [
    "#### datetime index"
   ]
  },
  {
   "cell_type": "code",
   "execution_count": null,
   "metadata": {},
   "outputs": [
    {
     "data": {
      "text/plain": [
       "pandas.core.indexes.range.RangeIndex"
      ]
     },
     "execution_count": 38,
     "metadata": {},
     "output_type": "execute_result"
    }
   ],
   "source": [
    "df = pd.DataFrame(data=[[0,1,2]])\n",
    "type(df.index)"
   ]
  },
  {
   "cell_type": "code",
   "execution_count": null,
   "metadata": {},
   "outputs": [
    {
     "data": {
      "text/plain": [
       "int"
      ]
     },
     "execution_count": 39,
     "metadata": {},
     "output_type": "execute_result"
    }
   ],
   "source": [
    "i = df.index[0]\n",
    "type(i)"
   ]
  },
  {
   "cell_type": "code",
   "execution_count": null,
   "metadata": {},
   "outputs": [
    {
     "data": {
      "text/plain": [
       "0"
      ]
     },
     "execution_count": 40,
     "metadata": {},
     "output_type": "execute_result"
    }
   ],
   "source": [
    "i"
   ]
  },
  {
   "cell_type": "code",
   "execution_count": null,
   "metadata": {},
   "outputs": [
    {
     "data": {
      "text/plain": [
       "pandas.core.indexes.datetimes.DatetimeIndex"
      ]
     },
     "execution_count": 41,
     "metadata": {},
     "output_type": "execute_result"
    }
   ],
   "source": [
    "type(raw.index)"
   ]
  },
  {
   "cell_type": "code",
   "execution_count": null,
   "metadata": {},
   "outputs": [
    {
     "data": {
      "text/plain": [
       "pandas._libs.tslibs.timestamps.Timestamp"
      ]
     },
     "execution_count": 42,
     "metadata": {},
     "output_type": "execute_result"
    }
   ],
   "source": [
    "t = raw.index[0]\n",
    "type(t)"
   ]
  },
  {
   "cell_type": "code",
   "execution_count": null,
   "metadata": {},
   "outputs": [
    {
     "data": {
      "text/plain": [
       "Timestamp('2020-01-01 00:00:00')"
      ]
     },
     "execution_count": 43,
     "metadata": {},
     "output_type": "execute_result"
    }
   ],
   "source": [
    "t"
   ]
  },
  {
   "cell_type": "code",
   "execution_count": null,
   "metadata": {},
   "outputs": [
    {
     "data": {
      "text/plain": [
       "0"
      ]
     },
     "execution_count": 44,
     "metadata": {},
     "output_type": "execute_result"
    }
   ],
   "source": [
    "t.hour"
   ]
  },
  {
   "cell_type": "code",
   "execution_count": null,
   "metadata": {},
   "outputs": [
    {
     "data": {
      "text/plain": [
       "DatetimeIndex(['2020-02-01 01:01:00', '2020-02-01 01:02:00',\n",
       "               '2020-02-01 01:03:00', '2020-02-01 01:04:00',\n",
       "               '2020-02-01 01:05:00', '2020-02-01 01:06:00',\n",
       "               '2020-02-01 01:07:00', '2020-02-01 01:08:00',\n",
       "               '2020-02-01 01:09:00', '2020-02-01 01:10:00',\n",
       "               ...\n",
       "               '2020-03-01 00:51:00', '2020-03-01 00:52:00',\n",
       "               '2020-03-01 00:53:00', '2020-03-01 00:54:00',\n",
       "               '2020-03-01 00:55:00', '2020-03-01 00:56:00',\n",
       "               '2020-03-01 00:57:00', '2020-03-01 00:58:00',\n",
       "               '2020-03-01 00:59:00', '2020-03-01 01:00:00'],\n",
       "              dtype='datetime64[ns]', name='Time', length=44640, freq=None)"
      ]
     },
     "execution_count": 45,
     "metadata": {},
     "output_type": "execute_result"
    }
   ],
   "source": [
    "raw.index + pd.DateOffset(hours=1, minutes=1, months=1)"
   ]
  },
  {
   "cell_type": "code",
   "execution_count": null,
   "metadata": {},
   "outputs": [
    {
     "data": {
      "text/plain": [
       "DatetimeIndex(['2020-01-01 00:00:00', '2020-01-01 00:00:01',\n",
       "               '2020-01-01 00:00:02', '2020-01-01 00:00:03',\n",
       "               '2020-01-01 00:00:04', '2020-01-01 00:00:05',\n",
       "               '2020-01-01 00:00:06', '2020-01-01 00:00:07',\n",
       "               '2020-01-01 00:00:08', '2020-01-01 00:00:09',\n",
       "               '2020-01-01 00:00:10', '2020-01-01 00:00:11',\n",
       "               '2020-01-01 00:00:12', '2020-01-01 00:00:13',\n",
       "               '2020-01-01 00:00:14', '2020-01-01 00:00:15',\n",
       "               '2020-01-01 00:00:16', '2020-01-01 00:00:17',\n",
       "               '2020-01-01 00:00:18', '2020-01-01 00:00:19',\n",
       "               '2020-01-01 00:00:20', '2020-01-01 00:00:21',\n",
       "               '2020-01-01 00:00:22', '2020-01-01 00:00:23',\n",
       "               '2020-01-01 00:00:24', '2020-01-01 00:00:25',\n",
       "               '2020-01-01 00:00:26', '2020-01-01 00:00:27',\n",
       "               '2020-01-01 00:00:28', '2020-01-01 00:00:29',\n",
       "               '2020-01-01 00:00:30', '2020-01-01 00:00:31',\n",
       "               '2020-01-01 00:00:32', '2020-01-01 00:00:33',\n",
       "               '2020-01-01 00:00:34', '2020-01-01 00:00:35',\n",
       "               '2020-01-01 00:00:36', '2020-01-01 00:00:37',\n",
       "               '2020-01-01 00:00:38', '2020-01-01 00:00:39',\n",
       "               '2020-01-01 00:00:40', '2020-01-01 00:00:41',\n",
       "               '2020-01-01 00:00:42', '2020-01-01 00:00:43',\n",
       "               '2020-01-01 00:00:44', '2020-01-01 00:00:45',\n",
       "               '2020-01-01 00:00:46', '2020-01-01 00:00:47',\n",
       "               '2020-01-01 00:00:48', '2020-01-01 00:00:49',\n",
       "               '2020-01-01 00:00:50', '2020-01-01 00:00:51',\n",
       "               '2020-01-01 00:00:52', '2020-01-01 00:00:53',\n",
       "               '2020-01-01 00:00:54', '2020-01-01 00:00:55',\n",
       "               '2020-01-01 00:00:56', '2020-01-01 00:00:57',\n",
       "               '2020-01-01 00:00:58', '2020-01-01 00:00:59',\n",
       "               '2020-01-01 00:01:00'],\n",
       "              dtype='datetime64[ns]', freq='S')"
      ]
     },
     "execution_count": 46,
     "metadata": {},
     "output_type": "execute_result"
    }
   ],
   "source": [
    "pd.date_range(\n",
    "            start= t, \n",
    "            end = t + pd.DateOffset(hours=0, minutes=1),  \n",
    "            freq='s')"
   ]
  },
  {
   "cell_type": "code",
   "execution_count": null,
   "metadata": {},
   "outputs": [
    {
     "data": {
      "text/html": [
       "<div>\n",
       "<style scoped>\n",
       "    .dataframe tbody tr th:only-of-type {\n",
       "        vertical-align: middle;\n",
       "    }\n",
       "\n",
       "    .dataframe tbody tr th {\n",
       "        vertical-align: top;\n",
       "    }\n",
       "\n",
       "    .dataframe thead th {\n",
       "        text-align: right;\n",
       "    }\n",
       "</style>\n",
       "<table border=\"1\" class=\"dataframe\">\n",
       "  <thead>\n",
       "    <tr style=\"text-align: right;\">\n",
       "      <th></th>\n",
       "      <th>sensors1</th>\n",
       "    </tr>\n",
       "  </thead>\n",
       "  <tbody>\n",
       "    <tr>\n",
       "      <th>2020-01-01 00:00:00</th>\n",
       "      <td>NaN</td>\n",
       "    </tr>\n",
       "    <tr>\n",
       "      <th>2020-01-01 00:00:01</th>\n",
       "      <td>NaN</td>\n",
       "    </tr>\n",
       "    <tr>\n",
       "      <th>2020-01-01 00:00:02</th>\n",
       "      <td>NaN</td>\n",
       "    </tr>\n",
       "    <tr>\n",
       "      <th>2020-01-01 00:00:03</th>\n",
       "      <td>NaN</td>\n",
       "    </tr>\n",
       "    <tr>\n",
       "      <th>2020-01-01 00:00:04</th>\n",
       "      <td>NaN</td>\n",
       "    </tr>\n",
       "    <tr>\n",
       "      <th>...</th>\n",
       "      <td>...</td>\n",
       "    </tr>\n",
       "    <tr>\n",
       "      <th>2020-01-01 00:00:56</th>\n",
       "      <td>NaN</td>\n",
       "    </tr>\n",
       "    <tr>\n",
       "      <th>2020-01-01 00:00:57</th>\n",
       "      <td>NaN</td>\n",
       "    </tr>\n",
       "    <tr>\n",
       "      <th>2020-01-01 00:00:58</th>\n",
       "      <td>NaN</td>\n",
       "    </tr>\n",
       "    <tr>\n",
       "      <th>2020-01-01 00:00:59</th>\n",
       "      <td>NaN</td>\n",
       "    </tr>\n",
       "    <tr>\n",
       "      <th>2020-01-01 00:01:00</th>\n",
       "      <td>NaN</td>\n",
       "    </tr>\n",
       "  </tbody>\n",
       "</table>\n",
       "<p>61 rows × 1 columns</p>\n",
       "</div>"
      ],
      "text/plain": [
       "                    sensors1\n",
       "2020-01-01 00:00:00      NaN\n",
       "2020-01-01 00:00:01      NaN\n",
       "2020-01-01 00:00:02      NaN\n",
       "2020-01-01 00:00:03      NaN\n",
       "2020-01-01 00:00:04      NaN\n",
       "...                      ...\n",
       "2020-01-01 00:00:56      NaN\n",
       "2020-01-01 00:00:57      NaN\n",
       "2020-01-01 00:00:58      NaN\n",
       "2020-01-01 00:00:59      NaN\n",
       "2020-01-01 00:01:00      NaN\n",
       "\n",
       "[61 rows x 1 columns]"
      ]
     },
     "execution_count": 47,
     "metadata": {},
     "output_type": "execute_result"
    }
   ],
   "source": [
    "pd.DataFrame(index=pd.date_range(start= t, \n",
    "            end = t + pd.DateOffset(hours=0, minutes=1), \n",
    "            freq='s', \n",
    "            ), columns =['sensors1'])"
   ]
  },
  {
   "cell_type": "markdown",
   "metadata": {},
   "source": [
    "### Plotting objects"
   ]
  },
  {
   "cell_type": "code",
   "execution_count": null,
   "metadata": {},
   "outputs": [
    {
     "data": {
      "text/plain": [
       "Time\n",
       "2020-01-01 00:00:00    31.11716\n",
       "2020-01-01 00:01:00    31.11716\n",
       "2020-01-01 00:02:00    32.08894\n",
       "2020-01-01 00:03:00    31.67221\n",
       "2020-01-01 00:04:00    31.95202\n",
       "2020-01-01 00:05:00    32.23816\n",
       "2020-01-01 00:06:00    32.00982\n",
       "2020-01-01 00:07:00    31.88320\n",
       "2020-01-01 00:08:00    32.09234\n",
       "2020-01-01 00:09:00    32.25679\n",
       "Name: Temperature, dtype: float64"
      ]
     },
     "execution_count": 48,
     "metadata": {},
     "output_type": "execute_result"
    }
   ],
   "source": [
    "ts_raw"
   ]
  },
  {
   "cell_type": "markdown",
   "metadata": {},
   "source": [
    "Plot using matplotlib figure"
   ]
  },
  {
   "cell_type": "code",
   "execution_count": null,
   "metadata": {},
   "outputs": [
    {
     "data": {
      "text/plain": [
       "[<matplotlib.lines.Line2D at 0x2aa633cb4c0>]"
      ]
     },
     "execution_count": 49,
     "metadata": {},
     "output_type": "execute_result"
    },
    {
     "data": {
      "image/png": "[encoded data removed]",
      "text/plain": [
       "<Figure size 1200x400 with 1 Axes>"
      ]
     },
     "metadata": {},
     "output_type": "display_data"
    }
   ],
   "source": [
    "fig, ax = plt.subplots(figsize=(12,4))\n",
    "ax.plot(ts_raw.values)"
   ]
  },
  {
   "cell_type": "code",
   "execution_count": null,
   "metadata": {},
   "outputs": [
    {
     "data": {
      "text/plain": [
       "(matplotlib.figure.Figure, matplotlib.axes._subplots.AxesSubplot)"
      ]
     },
     "execution_count": 50,
     "metadata": {},
     "output_type": "execute_result"
    }
   ],
   "source": [
    "type(fig), type(ax)"
   ]
  },
  {
   "cell_type": "code",
   "execution_count": null,
   "metadata": {},
   "outputs": [
    {
     "data": {
      "text/plain": [
       "matplotlib.figure.Figure"
      ]
     },
     "execution_count": 51,
     "metadata": {},
     "output_type": "execute_result"
    }
   ],
   "source": [
    "type(ax.figure)"
   ]
  },
  {
   "cell_type": "code",
   "execution_count": null,
   "metadata": {},
   "outputs": [
    {
     "data": {
      "text/plain": [
       "True"
      ]
     },
     "execution_count": 52,
     "metadata": {},
     "output_type": "execute_result"
    }
   ],
   "source": [
    "ax.figure == fig"
   ]
  },
  {
   "cell_type": "code",
   "execution_count": null,
   "metadata": {},
   "outputs": [
    {
     "data": {
      "text/plain": [
       "[<AxesSubplot:>]"
      ]
     },
     "execution_count": 53,
     "metadata": {},
     "output_type": "execute_result"
    }
   ],
   "source": [
    "fig.axes"
   ]
  },
  {
   "cell_type": "code",
   "execution_count": null,
   "metadata": {},
   "outputs": [
    {
     "data": {
      "text/plain": [
       "True"
      ]
     },
     "execution_count": 54,
     "metadata": {},
     "output_type": "execute_result"
    }
   ],
   "source": [
    "fig.axes[0] == ax"
   ]
  },
  {
   "cell_type": "markdown",
   "metadata": {},
   "source": [
    "Plotting without making a figure"
   ]
  },
  {
   "cell_type": "code",
   "execution_count": null,
   "metadata": {},
   "outputs": [
    {
     "data": {
      "image/png": "[encoded data removed]",
      "text/plain": [
       "<Figure size 640x480 with 1 Axes>"
      ]
     },
     "metadata": {},
     "output_type": "display_data"
    }
   ],
   "source": [
    "X = plt.plot(ts_raw)[0]"
   ]
  },
  {
   "cell_type": "code",
   "execution_count": null,
   "metadata": {},
   "outputs": [
    {
     "data": {
      "text/plain": [
       "<matplotlib.lines.Line2D at 0x2aa61d64f40>"
      ]
     },
     "execution_count": 56,
     "metadata": {},
     "output_type": "execute_result"
    }
   ],
   "source": [
    "X"
   ]
  },
  {
   "cell_type": "code",
   "execution_count": null,
   "metadata": {},
   "outputs": [
    {
     "data": {
      "text/plain": [
       "matplotlib.lines.Line2D"
      ]
     },
     "execution_count": 57,
     "metadata": {},
     "output_type": "execute_result"
    }
   ],
   "source": [
    "type(X)"
   ]
  },
  {
   "cell_type": "code",
   "execution_count": null,
   "metadata": {},
   "outputs": [
    {
     "data": {
      "text/plain": [
       "<AxesSubplot:>"
      ]
     },
     "execution_count": 58,
     "metadata": {},
     "output_type": "execute_result"
    }
   ],
   "source": [
    "X.axes"
   ]
  },
  {
   "cell_type": "code",
   "execution_count": null,
   "metadata": {},
   "outputs": [
    {
     "data": {
      "text/plain": [
       "matplotlib.figure.Figure"
      ]
     },
     "execution_count": 59,
     "metadata": {},
     "output_type": "execute_result"
    }
   ],
   "source": [
    "type(X.axes.figure)"
   ]
  },
  {
   "cell_type": "markdown",
   "metadata": {},
   "source": [
    "Plotting with seaborn"
   ]
  },
  {
   "cell_type": "code",
   "execution_count": null,
   "metadata": {},
   "outputs": [],
   "source": [
    "import seaborn as sns"
   ]
  },
  {
   "cell_type": "code",
   "execution_count": null,
   "metadata": {},
   "outputs": [
    {
     "data": {
      "image/png": "[encoded data removed]",
      "text/plain": [
       "<Figure size 640x480 with 1 Axes>"
      ]
     },
     "metadata": {},
     "output_type": "display_data"
    }
   ],
   "source": [
    "X = sns.lineplot(data=ts_raw)"
   ]
  },
  {
   "cell_type": "code",
   "execution_count": null,
   "metadata": {},
   "outputs": [
    {
     "data": {
      "text/plain": [
       "matplotlib.axes._subplots.AxesSubplot"
      ]
     },
     "execution_count": 62,
     "metadata": {},
     "output_type": "execute_result"
    }
   ],
   "source": [
    "type(X)"
   ]
  },
  {
   "cell_type": "code",
   "execution_count": null,
   "metadata": {},
   "outputs": [
    {
     "data": {
      "image/png": "[encoded data removed]",
      "text/plain": [
       "<Figure size 1200x400 with 1 Axes>"
      ]
     },
     "metadata": {},
     "output_type": "display_data"
    }
   ],
   "source": [
    "fig, ax = plt.subplots(figsize=(12,4))\n",
    "X = sns.lineplot(data=ts_raw, ax=ax)"
   ]
  },
  {
   "cell_type": "code",
   "execution_count": null,
   "metadata": {},
   "outputs": [
    {
     "data": {
      "text/plain": [
       "<AxesSubplot:xlabel='Time', ylabel='Temperature'>"
      ]
     },
     "execution_count": 64,
     "metadata": {},
     "output_type": "execute_result"
    }
   ],
   "source": [
    "X"
   ]
  },
  {
   "cell_type": "markdown",
   "metadata": {},
   "source": [
    "Subplots"
   ]
  },
  {
   "cell_type": "code",
   "execution_count": null,
   "metadata": {},
   "outputs": [
    {
     "data": {
      "text/plain": [
       "array([[<AxesSubplot:>, <AxesSubplot:>],\n",
       "       [<AxesSubplot:>, <AxesSubplot:>]], dtype=object)"
      ]
     },
     "execution_count": 65,
     "metadata": {},
     "output_type": "execute_result"
    },
    {
     "data": {
      "image/png": "[encoded data removed]",
      "text/plain": [
       "<Figure size 1000x600 with 4 Axes>"
      ]
     },
     "metadata": {},
     "output_type": "display_data"
    }
   ],
   "source": [
    "fig, axes = plt.subplots(figsize=(10,6), ncols=2, nrows=2)\n",
    "axes"
   ]
  },
  {
   "cell_type": "code",
   "execution_count": null,
   "metadata": {},
   "outputs": [
    {
     "data": {
      "text/plain": [
       "<AxesSubplot:xlabel='Time', ylabel='Temperature'>"
      ]
     },
     "execution_count": 66,
     "metadata": {},
     "output_type": "execute_result"
    },
    {
     "data": {
      "image/png": "[encoded data removed]",
      "text/plain": [
       "<Figure size 1200x400 with 4 Axes>"
      ]
     },
     "metadata": {},
     "output_type": "display_data"
    }
   ],
   "source": [
    "fig, axes = plt.subplots(figsize=(12,4), ncols=2, nrows=2)\n",
    "\n",
    "axes[0][0].plot(ts_raw)\n",
    "\n",
    "axes[0][1].plot(ts_raw, color='r')\n",
    "\n",
    "axes[1][0].plot(ts_raw, linewidth=4, color='r')\n",
    "\n",
    "sns.lineplot(data=ts_raw, ax=axes[1,1])"
   ]
  },
  {
   "cell_type": "code",
   "execution_count": null,
   "metadata": {},
   "outputs": [],
   "source": []
  }
 ],
 "metadata": {
  "kernelspec": {
   "display_name": "elevator",
   "language": "python",
   "name": "python3"
  },
  "language_info": {
   "codemirror_mode": {
    "name": "ipython",
    "version": 3
   },
   "file_extension": ".py",
   "mimetype": "text/x-python",
   "name": "python",
   "nbconvert_exporter": "python",
   "pygments_lexer": "ipython3",
   "version": "3.8.20"
  },
  "orig_nbformat": 4
 },
 "nbformat": 4,
 "nbformat_minor": 2
}
